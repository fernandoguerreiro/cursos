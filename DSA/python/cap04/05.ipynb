{
 "cells": [
  {
   "cell_type": "code",
   "execution_count": 2,
   "metadata": {},
   "outputs": [
    {
     "name": "stdout",
     "output_type": "stream",
     "text": [
      "Valores originais: [10, 20, 30, 40, 50]\n",
      "Multiplicados: [20, 40, 60, 80, 100]\n",
      "Somados: [20, 30, 40, 50, 60]\n",
      "Lista1: [10, 20, 30, 40, 50]\n",
      "Lista2: [11, 23, 54, 12, 1]\n",
      "Somatório das duas listas: [21, 43, 84, 52, 51]\n"
     ]
    }
   ],
   "source": [
    "# FUNCAO MAP\n",
    "def multiplica(x):\n",
    "    return(x*2)\n",
    "\n",
    "def soma10(x):\n",
    "    return(x+10)\n",
    "\n",
    "valores = [10,20,30,40,50]\n",
    "valores1 = [11,23,54,12,1]\n",
    "\n",
    "def soma_mult():\n",
    "    print(f'Valores originais: {valores}')\n",
    "    #map(multiplica, valores) # retorna um iterator\n",
    "    mult = list(map(multiplica, valores))\n",
    "    soma = list(map(soma10, valores))\n",
    "    print(f'Multiplicados: {mult}')\n",
    "    print(f'Somados: {soma}')\n",
    "    return None\n",
    "\n",
    "def soma_2_listas():\n",
    "    somatorio = list(map(lambda x,y : x+y, valores, valores1))\n",
    "    print(f'Lista1: {valores}')\n",
    "    print(f'Lista2: {valores1}')\n",
    "    print(f'Somatório das duas listas: {somatorio}')\n",
    "    return None\n",
    "\n",
    "soma_mult()\n",
    "soma_2_listas()"
   ]
  },
  {
   "cell_type": "code",
   "execution_count": 11,
   "metadata": {},
   "outputs": [
    {
     "name": "stdout",
     "output_type": "stream",
     "text": [
      "<class 'function'>\n",
      "Lista Original: [10, 20, 30, 40, 50]\n",
      "Reduce da lista: 50\n"
     ]
    }
   ],
   "source": [
    "# FUNCAO REDUCE\n",
    "# PRECISA IMPORTAR DA FUNCTOOLS\n",
    "from functools import reduce\n",
    "\n",
    "lista = [10,20,30,40,50]\n",
    "\n",
    "def soma_2(a,b):\n",
    "    return (a+b)\n",
    "\n",
    "# reduce(funcao, lista)\n",
    "#resultado = reduce(soma_2, lista)\n",
    "\n",
    "# mesma coisa, mas com lambda\n",
    "#resultado = reduce(lambda x,y : x+y, lista)\n",
    "\n",
    "# pegando a função lambda e jogando para uma variavel\n",
    "\n",
    "valor_final = lambda a,b : a if (a > b) else b\n",
    "resultado = reduce(valor_final, lista)\n",
    "print(type(valor_final)) # valor_final é !função\" lambda\n",
    "print(f'Lista Original: {lista}')\n",
    "print(f'Reduce da lista: {resultado}')\n"
   ]
  },
  {
   "cell_type": "code",
   "execution_count": 7,
   "metadata": {},
   "outputs": [
    {
     "name": "stdout",
     "output_type": "stream",
     "text": [
      "[0, 1, 2, 3, 4, 5, 6, 7, 8, 9, 10, 11, 12, 13, 14, 15, 16, 17, 18, 19, 20, 21, 22, 23, 24]\n",
      "Pares: [0, 2, 4, 6, 8, 10, 12, 14, 16, 18, 20, 22, 24]\n"
     ]
    }
   ],
   "source": [
    "lista = list(range(0,25,1))\n",
    "print(lista)\n",
    "\n",
    "def retorna_par(num):\n",
    "    if num % 2 == 0:\n",
    "        return True\n",
    "    else:\n",
    "        return False\n",
    "\n",
    "#pares = list(filter(retorna_par, lista))\n",
    "pares = list(filter(lambda x : x % 2 == 0, lista))\n",
    "\n",
    "print(f'Pares: {pares}')\n"
   ]
  },
  {
   "cell_type": "code",
   "execution_count": 1,
   "metadata": {},
   "outputs": [
    {
     "ename": "NameError",
     "evalue": "name 'lista' is not defined",
     "output_type": "error",
     "traceback": [
      "\u001b[1;31m---------------------------------------------------------------------------\u001b[0m",
      "\u001b[1;31mNameError\u001b[0m                                 Traceback (most recent call last)",
      "\u001b[1;32m<ipython-input-1-fa1837252f18>\u001b[0m in \u001b[0;36m<module>\u001b[1;34m\u001b[0m\n\u001b[0;32m      1\u001b[0m \u001b[1;31m# LIST COPMPREHENSION\u001b[0m\u001b[1;33m\u001b[0m\u001b[1;33m\u001b[0m\u001b[1;33m\u001b[0m\u001b[0m\n\u001b[1;32m----> 2\u001b[1;33m \u001b[0mlst\u001b[0m \u001b[1;33m=\u001b[0m\u001b[1;33m[\u001b[0m\u001b[0mx\u001b[0m \u001b[1;32mfor\u001b[0m \u001b[0mx\u001b[0m \u001b[1;32min\u001b[0m \u001b[0mlista\u001b[0m \u001b[1;32mif\u001b[0m \u001b[0mx\u001b[0m \u001b[1;33m%\u001b[0m \u001b[1;36m2\u001b[0m \u001b[1;33m==\u001b[0m \u001b[1;36m0\u001b[0m\u001b[1;33m]\u001b[0m\u001b[1;33m\u001b[0m\u001b[1;33m\u001b[0m\u001b[0m\n\u001b[0m\u001b[0;32m      3\u001b[0m \u001b[0mprint\u001b[0m\u001b[1;33m(\u001b[0m\u001b[0mlst\u001b[0m\u001b[1;33m)\u001b[0m\u001b[1;33m\u001b[0m\u001b[1;33m\u001b[0m\u001b[0m\n",
      "\u001b[1;31mNameError\u001b[0m: name 'lista' is not defined"
     ]
    }
   ],
   "source": [
    "# LIST COPMPREHENSION\n",
    "lst =[x for x in lista if x % 2 == 0]\n",
    "print(lst)"
   ]
  }
 ],
 "metadata": {
  "interpreter": {
   "hash": "f378a7e5693cdf54d5bc380d94f970741f1b43ab75dfa9fc0bbd826245295b1a"
  },
  "kernelspec": {
   "display_name": "Python 3.8.8 64-bit ('base': conda)",
   "name": "python3"
  },
  "language_info": {
   "codemirror_mode": {
    "name": "ipython",
    "version": 3
   },
   "file_extension": ".py",
   "mimetype": "text/x-python",
   "name": "python",
   "nbconvert_exporter": "python",
   "pygments_lexer": "ipython3",
   "version": "3.8.8"
  },
  "orig_nbformat": 4
 },
 "nbformat": 4,
 "nbformat_minor": 2
}
