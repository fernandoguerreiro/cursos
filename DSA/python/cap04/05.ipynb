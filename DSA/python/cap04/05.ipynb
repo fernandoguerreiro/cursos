{
 "cells": [
  {
   "cell_type": "code",
   "execution_count": 17,
   "source": [
    "# FUNCAO MAP\r\n",
    "def multiplica(x):\r\n",
    "    return(x*2)\r\n",
    "\r\n",
    "def soma10(x):\r\n",
    "    return(x+10)\r\n",
    "\r\n",
    "valores = [10,20,30,40,50]\r\n",
    "valores1 = [11,23,54,12,1]\r\n",
    "\r\n",
    "def soma_mult():\r\n",
    "    print(f'Valores originais: {valores}')\r\n",
    "    #map(multiplica, valores) # retorna um iterator\r\n",
    "    mult = list(map(multiplica, valores))\r\n",
    "    soma = list(map(soma10, valores))\r\n",
    "    print(f'Multiplicados: {mult}')\r\n",
    "    print(f'Somados: {soma}')\r\n",
    "    return None\r\n",
    "\r\n",
    "def soma_2_listas():\r\n",
    "    somatorio = list(map(lambda x,y : x+y, valores, valores1))\r\n",
    "    print(f'Lista1: {valores}')\r\n",
    "    print(f'Lista2: {valores1}')\r\n",
    "    print(f'Somatório das duas listas: {somatorio}')\r\n",
    "    return None\r\n",
    "\r\n",
    "soma_mult()\r\n",
    "soma_2_listas()"
   ],
   "outputs": [
    {
     "output_type": "stream",
     "name": "stdout",
     "text": [
      "Valores originais: [10, 20, 30, 40, 50]\n",
      "Multiplicados: [20, 40, 60, 80, 100]\n",
      "Somados: [20, 30, 40, 50, 60]\n",
      "Lista1: [10, 20, 30, 40, 50]\n",
      "Lista2: [11, 23, 54, 12, 1]\n",
      "Somatório das duas listas: [21, 43, 84, 52, 51]\n"
     ]
    }
   ],
   "metadata": {}
  },
  {
   "cell_type": "code",
   "execution_count": 12,
   "source": [
    "# FUNCAO REDUCE\r\n",
    "# PRECISA IMPORTAR DA FUNCTOOLS\r\n",
    "from functools import reduce"
   ],
   "outputs": [],
   "metadata": {}
  }
 ],
 "metadata": {
  "orig_nbformat": 4,
  "language_info": {
   "name": "python",
   "version": "3.9.7",
   "mimetype": "text/x-python",
   "codemirror_mode": {
    "name": "ipython",
    "version": 3
   },
   "pygments_lexer": "ipython3",
   "nbconvert_exporter": "python",
   "file_extension": ".py"
  },
  "kernelspec": {
   "name": "python3",
   "display_name": "Python 3.8.8 64-bit"
  },
  "interpreter": {
   "hash": "f378a7e5693cdf54d5bc380d94f970741f1b43ab75dfa9fc0bbd826245295b1a"
  }
 },
 "nbformat": 4,
 "nbformat_minor": 2
}