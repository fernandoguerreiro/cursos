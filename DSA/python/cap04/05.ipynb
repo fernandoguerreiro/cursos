{
 "cells": [
  {
   "cell_type": "code",
   "execution_count": 2,
   "source": [
    "# FUNCAO MAP\r\n",
    "def multiplica(x):\r\n",
    "    return(x*2)\r\n",
    "\r\n",
    "def soma10(x):\r\n",
    "    return(x+10)\r\n",
    "\r\n",
    "valores = [10,20,30,40,50]\r\n",
    "valores1 = [11,23,54,12,1]\r\n",
    "\r\n",
    "def soma_mult():\r\n",
    "    print(f'Valores originais: {valores}')\r\n",
    "    #map(multiplica, valores) # retorna um iterator\r\n",
    "    mult = list(map(multiplica, valores))\r\n",
    "    soma = list(map(soma10, valores))\r\n",
    "    print(f'Multiplicados: {mult}')\r\n",
    "    print(f'Somados: {soma}')\r\n",
    "    return None\r\n",
    "\r\n",
    "def soma_2_listas():\r\n",
    "    somatorio = list(map(lambda x,y : x+y, valores, valores1))\r\n",
    "    print(f'Lista1: {valores}')\r\n",
    "    print(f'Lista2: {valores1}')\r\n",
    "    print(f'Somatório das duas listas: {somatorio}')\r\n",
    "    return None\r\n",
    "\r\n",
    "soma_mult()\r\n",
    "soma_2_listas()"
   ],
   "outputs": [
    {
     "output_type": "stream",
     "name": "stdout",
     "text": [
      "Valores originais: [10, 20, 30, 40, 50]\n",
      "Multiplicados: [20, 40, 60, 80, 100]\n",
      "Somados: [20, 30, 40, 50, 60]\n",
      "Lista1: [10, 20, 30, 40, 50]\n",
      "Lista2: [11, 23, 54, 12, 1]\n",
      "Somatório das duas listas: [21, 43, 84, 52, 51]\n"
     ]
    }
   ],
   "metadata": {}
  },
  {
   "cell_type": "code",
   "execution_count": 11,
   "source": [
    "# FUNCAO REDUCE\r\n",
    "# PRECISA IMPORTAR DA FUNCTOOLS\r\n",
    "from functools import reduce\r\n",
    "\r\n",
    "lista = [10,20,30,40,50]\r\n",
    "\r\n",
    "def soma_2(a,b):\r\n",
    "    return (a+b)\r\n",
    "\r\n",
    "# reduce(funcao, lista)\r\n",
    "#resultado = reduce(soma_2, lista)\r\n",
    "\r\n",
    "# mesma coisa, mas com lambda\r\n",
    "#resultado = reduce(lambda x,y : x+y, lista)\r\n",
    "\r\n",
    "# pegando a função lambda e jogando para uma variavel\r\n",
    "\r\n",
    "valor_final = lambda a,b : a if (a > b) else b\r\n",
    "resultado = reduce(valor_final, lista)\r\n",
    "print(type(valor_final)) # valor_final é !função\" lambda\r\n",
    "print(f'Lista Original: {lista}')\r\n",
    "print(f'Reduce da lista: {resultado}')\r\n"
   ],
   "outputs": [
    {
     "output_type": "stream",
     "name": "stdout",
     "text": [
      "<class 'function'>\n",
      "Lista Original: [10, 20, 30, 40, 50]\n",
      "Reduce da lista: 50\n"
     ]
    }
   ],
   "metadata": {}
  },
  {
   "cell_type": "code",
   "execution_count": 7,
   "source": [
    "lista = list(range(0,25,1))\r\n",
    "print(lista)\r\n",
    "\r\n",
    "def retorna_par(num):\r\n",
    "    if num % 2 == 0:\r\n",
    "        return True\r\n",
    "    else:\r\n",
    "        return False\r\n",
    "\r\n",
    "#pares = list(filter(retorna_par, lista))\r\n",
    "pares = list(filter(lambda x : x % 2 == 0, lista))\r\n",
    "\r\n",
    "print(f'Pares: {pares}')\r\n"
   ],
   "outputs": [
    {
     "output_type": "stream",
     "name": "stdout",
     "text": [
      "[0, 1, 2, 3, 4, 5, 6, 7, 8, 9, 10, 11, 12, 13, 14, 15, 16, 17, 18, 19, 20, 21, 22, 23, 24]\n",
      "Pares: [0, 2, 4, 6, 8, 10, 12, 14, 16, 18, 20, 22, 24]\n"
     ]
    }
   ],
   "metadata": {}
  },
  {
   "cell_type": "code",
   "execution_count": 10,
   "source": [
    "# LIST COPMPREHENSION\r\n",
    "lst =[x for x in lista if x % 2 == 0]\r\n",
    "print(lst)"
   ],
   "outputs": [
    {
     "output_type": "stream",
     "name": "stdout",
     "text": [
      "[0, 2, 4, 6, 8, 10, 12, 14, 16, 18, 20, 22, 24]\n"
     ]
    }
   ],
   "metadata": {}
  }
 ],
 "metadata": {
  "orig_nbformat": 4,
  "language_info": {
   "name": "python",
   "version": "3.8.8",
   "mimetype": "text/x-python",
   "codemirror_mode": {
    "name": "ipython",
    "version": 3
   },
   "pygments_lexer": "ipython3",
   "nbconvert_exporter": "python",
   "file_extension": ".py"
  },
  "kernelspec": {
   "name": "python3",
   "display_name": "Python 3.8.8 64-bit ('base': conda)"
  },
  "interpreter": {
   "hash": "f378a7e5693cdf54d5bc380d94f970741f1b43ab75dfa9fc0bbd826245295b1a"
  }
 },
 "nbformat": 4,
 "nbformat_minor": 2
}